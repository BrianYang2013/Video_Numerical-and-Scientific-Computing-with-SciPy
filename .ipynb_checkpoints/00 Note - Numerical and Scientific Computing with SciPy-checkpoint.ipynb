{
 "cells": [
  {
   "cell_type": "markdown",
   "metadata": {},
   "source": [
    "# Road map\n",
    "* Session 1: Installation and setup\n",
    "* Session 2: Python\n",
    "* Session 3: NumPy\n",
    "* Session 4: SciPy\n",
    "* Session 5: Matplotlib\n",
    "* Session 6: Data preprocessing\n",
    "* Session 7: Regression\n",
    "* Session 8: Logistic Classification"
   ]
  },
  {
   "cell_type": "markdown",
   "metadata": {},
   "source": [
    "# Session 1: Installation\n",
    "Anaconda: https://www.continuum.io/downloads\n",
    "\n",
    "    Linux: bash Anaconda3-4.2.0-Linux-x86_64.sh\n",
    "    \n",
    "Canopy: https://www.enthought.com/canopy-subscriptions/"
   ]
  },
  {
   "cell_type": "markdown",
   "metadata": {},
   "source": [
    "# Session 2: Python"
   ]
  },
  {
   "cell_type": "markdown",
   "metadata": {},
   "source": [
    "Available modules on Numeric and Scientific:\n",
    "https://wiki.python.org/moin/NumericAndScientific\n",
    "\n",
    "Using IPython for parallel computing:\n",
    "http://ipyparallel.readthedocs.io/en/latest/\n",
    "\n",
    "Python Module Index: https://docs.python.org/3/py-modindex.html\n",
    "    "
   ]
  },
  {
   "cell_type": "markdown",
   "metadata": {},
   "source": [
    "## IPython Notebook "
   ]
  },
  {
   "cell_type": "markdown",
   "metadata": {},
   "source": [
    "**Command** | **What it does**  \n",
    "--- | ---  \n",
    "Hit **Enter/Return** | Get the editing mode\n",
    "Hit **ESC** | Get the command mode \n",
    "Hit **ESC** then **h** | Shows a list of avaialble commands\n",
    "Hit **ESC** then **a** | Insert a command cell above the current cell\n",
    "Hit **ESC** then **b** | Insert a command cell below the current cell\n",
    "Hit **ESC** then **CTRL-k** | Move above the current cell\n",
    "Hit **ESC** then **CTRL-j** | Move down the current cell\n",
    "Hit **ESC** then **c** then **v** | Make a copy of the current cell below iteself\n",
    "Hit **ESC** then **c** then **SHIFT-v** | Make a copy of the current cell above iteself\n",
    "Hit **ESC** then **s** | Save the Notebook"
   ]
  },
  {
   "cell_type": "markdown",
   "metadata": {},
   "source": [
    "## References\n",
    "* A gallery of interesting Jupyter Notebooks: https://github.com/jupyter/jupyter/wiki/A-gallery-of-interesting-Jupyter-Notebooks\n",
    "* A collection of IPython Notebook examples: http://nbipython.blogspot.com"
   ]
  },
  {
   "cell_type": "markdown",
   "metadata": {},
   "source": [
    "# Session 3: NumPy "
   ]
  },
  {
   "cell_type": "markdown",
   "metadata": {},
   "source": [
    "Numpy: https://en.wikipedia.org/wiki/NumPy"
   ]
  },
  {
   "cell_type": "markdown",
   "metadata": {},
   "source": [
    "## References \n",
    "\n",
    "* Scipy Reference\n",
    "http://docs.scipy.org/doc/scipy/reference/ \n",
    "\n",
    "* Image manipulation and processing using Numpy and Scipy\n",
    "http://scipy-lectures.github.io/advanced/image_processing/ \n",
    "\n",
    "* Numpy and Scipy Documentation\n",
    "http://docs.scipy.org/doc/ \n",
    "\n",
    "* Numpy Tutorial\n",
    "http://wiki.scipy.org/Tentative_NumPy_Tutorial\n",
    "\n",
    "* Numpy Data type objects\n",
    "http://docs.scipy.org/doc/numpy/reference/arrays.dtypes.html \n",
    "\n",
    "* Numpy Tutorial\n",
    "http://wiki.scipy.org/Tentative_NumPy_Tutorial\n",
    "\n",
    "\n",
    "\n",
    "* NumPy Reference \n",
    "http://docs.scipy.org/doc/numpy/reference/index.html\n",
    "* NumPy: creating and manipulating numerical data \n",
    "http://www.scipy-lectures.org/intro/numpy/numpy.html \n",
    "* Array creation routines \n",
    "http://docs.scipy.org/doc/numpy/reference/routines.array-creation.html \n",
    "* Array manipulation routines \n",
    "http://docs.scipy.org/doc/numpy/reference/routines.array-manipulation.html \n",
    "* Numpy Array objects \n",
    "http://www.scipy-lectures.org/intro/numpy/array_object.html \n",
    "* Numpy Quick start Tutorial \n",
    "https://docs.scipy.org/doc/numpy-dev/user/quickstart.html \n",
    "* Numpy Data type objects \n",
    "http://docs.scipy.org/doc/numpy/reference/arrays.dtypes.html \n",
    "* The N-dimensional array (ndarray) \n",
    "http://docs.scipy.org/doc/numpy/reference/arrays.ndarray.html \n",
    "* Masked array operations \n",
    "http://docs.scipy.org/doc/numpy/reference/routines.ma.html"
   ]
  },
  {
   "cell_type": "markdown",
   "metadata": {},
   "source": [
    "## 3-06 - Avoid loops via matrix operations"
   ]
  },
  {
   "cell_type": "markdown",
   "metadata": {
    "collapsed": true
   },
   "source": [
    "** Measure performance **\n",
    "* Timing execution using timeit: \n",
    "https://docs.python.org/3/library/timeit.html\n",
    "* Better profiling tools at:\n",
    "https://docs.python.org/3/library/profile.html\n",
    "\n",
    "**References**\n",
    "* Array manipulation routines \n",
    "http://docs.scipy.org/doc/numpy/reference/routines.array-manipulation.html\n",
    "* Numpy Universal functions (ufunc)\n",
    "http://docs.scipy.org/doc/numpy/reference/ufuncs.html\n",
    "* The numpy.ma module \n",
    "http://docs.scipy.org/doc/numpy/reference/maskedarray.generic.html"
   ]
  },
  {
   "cell_type": "markdown",
   "metadata": {
    "collapsed": true
   },
   "source": [
    "## 3-07 - Data preprocessing"
   ]
  },
  {
   "cell_type": "markdown",
   "metadata": {
    "collapsed": true
   },
   "source": [
    "* Feature Scaling：The data is scaled to put in a range of values. Attention to 0 and negative\n",
    "* Centering or mean correcting：Subtracting the mean of a sett of observations from each observation. Most statistics and analysis performed on the data are Not Affected by mean correcting the data\n",
    "* Standardizing：After centering a set of observations, transform them such that the new transformed data set have variance equal to unity. Some statistics and analysis performed on data are AFFECTED by its standardization\n",
    "\n",
    "\n",
    "* Mean: https://en.wikipedia.org/wiki/Mean\t\n",
    "* Covariance: https://en.wikipedia.org/wiki/Covariance\t\n",
    "* Variance: https://en.wikipedia.org/wiki/Variance\n",
    "* Standard deviation: https://en.wikipedia.org/wiki/Standard_deviation\n",
    "* The covariance of the standardized set\t"
   ]
  },
  {
   "cell_type": "markdown",
   "metadata": {
    "collapsed": true
   },
   "source": [
    "Statistics in Python: http://www.scipy-lectures.org/packages/statistics/index.html"
   ]
  },
  {
   "cell_type": "markdown",
   "metadata": {
    "collapsed": true
   },
   "source": [
    "## 3-08 The NumPy matrix object"
   ]
  },
  {
   "cell_type": "markdown",
   "metadata": {
    "collapsed": true
   },
   "source": [
    "* numpy.matrix: https://docs.scipy.org/doc/numpy/reference/generated/numpy.matrix.html\n",
    "* The NumPy array object: http://www.scipy-lectures.org/intro/numpy/array_object.html\n",
    "* Inverse element: https://en.wikipedia.org/wiki/Inverse_element#Matrices"
   ]
  },
  {
   "cell_type": "markdown",
   "metadata": {
    "collapsed": true
   },
   "source": [
    "## 3-09 Read and write data "
   ]
  },
  {
   "cell_type": "markdown",
   "metadata": {
    "collapsed": true
   },
   "source": [
    "* Pandas: https://en.wikipedia.org/wiki/Pandas_(software)\n",
    "* genfromtxt(): http://docs.scipy.org/doc/numpy/reference/generated/numpy.genfromtxt.html\n",
    "* savetxt(): http://docs.scipy.org/doc/numpy/reference/generated/numpy.savetxt.html\n",
    "* Input and output: https://docs.scipy.org/doc/numpy/reference/routines.io.html"
   ]
  },
  {
   "cell_type": "markdown",
   "metadata": {
    "collapsed": true
   },
   "source": [
    "# Session 4: SciPy"
   ]
  },
  {
   "cell_type": "markdown",
   "metadata": {},
   "source": [
    "**Agenda**\n",
    "* General introduction to SciPy\n",
    "* Statistics with the SciPy library\n",
    "* Fitting curves with the SciPy library\n",
    "* Solving differential equations with the SciPy library\n",
    "* SciPy special functions: Bessel functions, Legendre polynomials, Gamma function, error function, and some statistical distributions\n",
    "* Time series analysis via the SciPy library"
   ]
  },
  {
   "cell_type": "markdown",
   "metadata": {},
   "source": [
    "## 4-10 The SciPy Library and its functionality"
   ]
  },
  {
   "cell_type": "markdown",
   "metadata": {},
   "source": [
    "SciPy: https://docs.scipy.org/doc/scipy/reference/\n",
    "\n",
    "Interpolation (scipy.interpolate): https://docs.scipy.org/doc/scipy/reference/tutorial/interpolate.html"
   ]
  },
  {
   "cell_type": "markdown",
   "metadata": {},
   "source": [
    "<b> References </b>\n",
    "\n",
    "* ** [SciPy conferences](http://conference.scipy.org/index.html) **\n",
    "\n",
    "* ** [SciPy Frequently Asked Questions ](https://www.scipy.org/scipylib/faq.html) **\n",
    "\n",
    "* ** [Learning SciPy for Numerical and Scientific Computing - packtpub](https://www.packtpub.com/big-data-and-business-intelligence/learning-scipy-numerical-and-scientific-computing-second-edition) **\n",
    "\n",
    "* ** [Learning SciPy for Numerical and Scientific Computing - Github](https://github.com/rojassergio/Learning-Scipy) **"
   ]
  },
  {
   "cell_type": "markdown",
   "metadata": {},
   "source": [
    "## 4-11 Statistics with the SciPy Library"
   ]
  },
  {
   "cell_type": "markdown",
   "metadata": {},
   "source": [
    "* Statistical functions (scipy.stats): \n",
    "http://docs.scipy.org/doc/scipy/reference/stats.html#module-scipy.stats\n",
    "\n",
    "* Normal distribution: https://en.wikipedia.org/wiki/Normal_distribution\n",
    "* norm() in SciPy, scipy.stats.norm:\n",
    "http://docs.scipy.org/doc/scipy/reference/generated/scipy.stats.norm.html#scipy.stats.norm\n",
    "\n",
    "Testing for normality\n",
    "\n",
    "IF p-value << 0.01 (or 0.05) it is suggestive to reject the null hypothesis that these data were drawn from a normal distribution.\n",
    "\n"
   ]
  },
  {
   "cell_type": "markdown",
   "metadata": {},
   "source": [
    "<b> References </b>\n",
    "\n",
    "* ** [NumPy Statistics](http://docs.scipy.org/doc/numpy/reference/routines.statistics.html) **\n",
    "\n",
    "* ** [Statistics in Python](http://www.scipy-lectures.org/packages/statistics/index.html) **\n",
    "\n",
    "* ** Statsmodels: [Sourceforge](http://statsmodels.sourceforge.net/) [Github](https://github.com/statsmodels/statsmodels) **\n",
    "\n",
    "* ** [Python Data Analysis Library (Pandas)](http://pandas.pydata.org/) **\n",
    "\n",
    "* ** [Statistics, Machine Learning and Data Science](https://github.com/ipython/ipython/wiki/A-gallery-of-interesting-IPython-Notebooks) **"
   ]
  },
  {
   "cell_type": "markdown",
   "metadata": {},
   "source": [
    "## 4-12 Fitting Curves with the SciPy Library"
   ]
  },
  {
   "cell_type": "markdown",
   "metadata": {},
   "source": [
    "* Curve fitting:\n",
    "https://en.wikipedia.org/wiki/Curve_fitting\n",
    "\n",
    "* SciPy module scipy.optimize.curve_fit: \n",
    "http://docs.scipy.org/doc/scipy/reference/generated/scipy.optimize.curve_fit.html"
   ]
  },
  {
   "cell_type": "markdown",
   "metadata": {},
   "source": [
    "<b> References </b>\n",
    "\n",
    "* ** [NumPy Polyfit](http://docs.scipy.org/doc/numpy/reference/generated/numpy.polyfit.html) **\n",
    "\n",
    "* ** [Fitting data from the Scipy Cookbook](http://scipy-cookbook.readthedocs.io/items/FittingData.html) **\n",
    "\n",
    "* ** [Non-Linear Least-Square Minimization and Curve-Fitting for Python](https://lmfit.github.io/lmfit-py/index.html) **\n",
    "\n"
   ]
  },
  {
   "cell_type": "markdown",
   "metadata": {},
   "source": [
    "## 4-13   Solving ODE"
   ]
  },
  {
   "cell_type": "markdown",
   "metadata": {},
   "source": [
    "**Code file missed, example can be found in the video**"
   ]
  },
  {
   "cell_type": "markdown",
   "metadata": {},
   "source": [
    "* General overview of the Integration and ODEs scipy.integrate module\n",
    "* Using scipy.integrate.odint to solve a first order ordinary differential equation\n",
    "* Using scipy.integrate.odint to solve a system of first order ordinary differential equations"
   ]
  },
  {
   "cell_type": "markdown",
   "metadata": {},
   "source": [
    "* Scipy.integrate.odeint function: https://docs.scipy.org/doc/scipy/reference/generated/scipy.integrate.odeint.html"
   ]
  },
  {
   "cell_type": "markdown",
   "metadata": {},
   "source": [
    "## 4-14   SciPy Library Special Functions"
   ]
  },
  {
   "cell_type": "markdown",
   "metadata": {},
   "source": [
    "**Code file missed, example can be found in the video **"
   ]
  },
  {
   "cell_type": "markdown",
   "metadata": {},
   "source": [
    "* Convenient functions for computing numerical values near zero\n",
    "* Evaluating the Gamma function\n",
    "* Evaluating the Airy and Bairy functions\n",
    "* Evlauating the Bessel function: https://en.wikipedia.org/wiki/Bessel_function"
   ]
  },
  {
   "cell_type": "markdown",
   "metadata": {},
   "source": [
    "Scipy.special module: https://docs.scipy.org/doc/scipy/reference/special.html"
   ]
  },
  {
   "cell_type": "markdown",
   "metadata": {},
   "source": [
    "# Session 5: Matplotlib"
   ]
  },
  {
   "cell_type": "markdown",
   "metadata": {},
   "source": [
    "## Agenda\n",
    "* 2D plots via matplotlib\n",
    "* 3D plots via matplotlib\n",
    "* Scatter and contour plot via matplotlib\n",
    "* Plotting histograms via matplotlib"
   ]
  },
  {
   "cell_type": "markdown",
   "metadata": {},
   "source": [
    "## 5-15 2D Plots via Matplotlib"
   ]
  },
  {
   "cell_type": "markdown",
   "metadata": {},
   "source": [
    "matplotlib: http://matplotlib.org/contents.html"
   ]
  },
  {
   "cell_type": "markdown",
   "metadata": {},
   "source": [
    "### References\n",
    "\n",
    "* ** [Matplotlib gallery](http://matplotlib.org/gallery.html) **\n",
    "\n",
    "* ** [ Scipy lecture notes on matplotlib ](http://www.scipy-lectures.org/intro/matplotlib/matplotlib.html) **"
   ]
  },
  {
   "cell_type": "markdown",
   "metadata": {},
   "source": [
    "## 5-16 3D Plots via Matplotlib"
   ]
  },
  {
   "cell_type": "markdown",
   "metadata": {},
   "source": [
    "### References\n",
    "\n",
    "* ** [mplot 3D tutorial](http://matplotlib.org/mpl_toolkits/mplot3d/tutorial.html) **\n",
    "\n",
    "* ** [ SciPy Cookbook: Matplotlib mplot3d ](http://scipy-cookbook.readthedocs.io/items/Matplotlib_mplot3D.html) **"
   ]
  },
  {
   "cell_type": "markdown",
   "metadata": {},
   "source": [
    "## 5-17 Scatter and Contour Plots via Matplotlib "
   ]
  },
  {
   "cell_type": "markdown",
   "metadata": {},
   "source": [
    "* Plotting commands summary: http://matplotlib.org/api/pyplot_summary.html\n",
    "* Scatter Plot: http://matplotlib.org/api/pyplot_api.html#matplotlib.pyplot.scatter\n",
    "\n",
    "\n",
    "* Contour plot: http://matplotlib.org/api/pyplot_api.html#matplotlib.pyplot.contour\n",
    "* The data set: https://github.com/gnuplot/gnuplot/blob/master/demo/glass.dat"
   ]
  },
  {
   "cell_type": "markdown",
   "metadata": {},
   "source": [
    "### References\n",
    "\n",
    "* ** [Matplotlib scatter plots](http://matplotlib.org/api/pyplot_api.html#matplotlib.pyplot.scatter) **\n",
    "\n",
    "* ** [Matplotlib contour plots](http://matplotlib.org/api/pyplot_api.html#matplotlib.pyplot.contour) **"
   ]
  },
  {
   "cell_type": "markdown",
   "metadata": {},
   "source": [
    "## 5-18 Histogram plots via Matplotlib"
   ]
  },
  {
   "cell_type": "markdown",
   "metadata": {},
   "source": [
    "### References\n",
    "\n",
    "* ** [Matplotlib histogram plots](http://matplotlib.org/api/pyplot_api.html#matplotlib.pyplot.hist) **\n",
    "\n",
    "* ** [Numpy histogram function](http://docs.scipy.org/doc/numpy/reference/generated/numpy.histogram.html) **"
   ]
  },
  {
   "cell_type": "markdown",
   "metadata": {},
   "source": [
    "# Session 6: Data preprocessing"
   ]
  },
  {
   "cell_type": "markdown",
   "metadata": {},
   "source": [
    "## 6-19 Generalities on Machine Learning"
   ]
  },
  {
   "cell_type": "markdown",
   "metadata": {},
   "source": [
    "**Code file missed **"
   ]
  },
  {
   "cell_type": "markdown",
   "metadata": {},
   "source": [
    "### Basic information\n",
    "\n",
    "* Artificial intelligence: https://en.wikipedia.org/wiki/Artificial_intelligence\n",
    "* The Naked Sun by Isaac Asimov: https://en.wikipedia.org/wiki/The_Naked_Sun\n",
    "* Inside the Japanese Hotel Staffed by Robots : https://www.youtube.com/watch?v=mpzIQt6l4xY\n",
    "\n",
    "\n",
    "* Arthur Samuel: https://en.wikipedia.org/wiki/Arthur_Samuel\n",
    "* Machine learning: https://en.wikipedia.org/wiki/Machine_learning\n",
    "* Use Data to Tell the Future: Understanding Machine Learning: https://www.wired.com/insights/2014/03/use-data-tell-future-understanding-machine-learning"
   ]
  },
  {
   "cell_type": "markdown",
   "metadata": {},
   "source": [
    "### ML and discovery in the sciences"
   ]
  },
  {
   "cell_type": "markdown",
   "metadata": {},
   "source": [
    "* Kepler's laws of planetary motion\n",
    "* Tycho Brahe\n",
    "* Johannes Kepler\n",
    "* Data mining and machine learning in astronomy\n",
    "* **Machine learning in genetics and genomics**\n",
    "    * http://www.nature.com/nrg/journal/v16/n6/abs/nrg3920.html\n",
    "    * http://ieeexplore.ieee.org/stamp/stamp.jsp?reload=true&arnumber=7347331\n",
    "* Machine learning and the discovery of new materials "
   ]
  },
  {
   "cell_type": "markdown",
   "metadata": {},
   "source": [
    "### Uses and applications of ML"
   ]
  },
  {
   "cell_type": "markdown",
   "metadata": {},
   "source": [
    "* Email span filtering\n",
    "* Optical character recognition (OCR)\n",
    "* Web search engines\n",
    "* Rrecommender system\n",
    "* Computer Vision\n",
    "* Top 10 use cases for ML: https://www.forbes.com/sites/bernardmarr/2016/09/30/what-are-the-top-10-use-cases-for-machine-learning-and-ai/#3e3f76994c90\n",
    "    * Data Security\n",
    "    * Personal Security\n",
    "    * Financial Trading\n",
    "    * Healthcare\n",
    "    * Marketing Personalization\n",
    "    * Fraud Detection\n",
    "    * Recommendations\n",
    "    * Online Search\n",
    "    * Natural Language Processing (NLP)\n",
    "    * Smart Cars"
   ]
  },
  {
   "cell_type": "markdown",
   "metadata": {},
   "source": [
    "### Twitter\n",
    "* Machine Learning\n",
    "* Artificial Intelligence\n",
    "* Data Science\n",
    "* Smart Data\n",
    "* Cognitive Computing\n",
    "* Future of AI\n"
   ]
  },
  {
   "cell_type": "markdown",
   "metadata": {},
   "source": [
    "## 6-20 Generalities on Working with Data - Getting it and Putting it in the Right Format"
   ]
  },
  {
   "cell_type": "markdown",
   "metadata": {},
   "source": [
    "**Code file missed **"
   ]
  },
  {
   "cell_type": "markdown",
   "metadata": {},
   "source": [
    "### Agenda\n",
    "* Type of data\n",
    "    * Numerical: https://en.wikipedia.org/wiki/Quantity\n",
    "    * Qualitative: https://en.wikipedia.org/wiki/Qualitative_property\n",
    "* The importance of handling data properly\n",
    "    * Avoid the crash of program\n",
    "        * Python built-in exceptions: https://docs.python.org/3/library/exceptions.html\n",
    "        * Try-Except construction: https://docs.python.org/3/tutorial/errors.html\n",
    "        * NumPy functions to handle NaN values: https://docs.scipy.org/doc/numpy/reference/generated/numpy.isnan.html\n",
    "        * NumPy functions to handle infinity (inf) values: https://docs.scipy.org/doc/numpy/reference/generated/numpy.isinf.html\n",
    "        * Misc: https://docs.scipy.org/doc/numpy/user/misc.html\n",
    "        * NaN to num: https://docs.scipy.org/doc/numpy/reference/generated/numpy.nan_to_num.html\n",
    "* Aspects to keep in mind to handle a data set properly\n",
    "    * Are there outliers: https://en.wikipedia.org/wiki/Outlier\n",
    "    * Are there data points that don't make sense? \n",
    "    * How is the data distributed\n",
    "        * Probability distribution: https://en.wikipedia.org/wiki/Probability_distribution\n",
    "        * List of probability distributions: https://en.wikipedia.org/wiki/List_of_probability_distributions\n",
    "    * Python Data Analysis Library: http://pandas.pydata.org"
   ]
  },
  {
   "cell_type": "markdown",
   "metadata": {},
   "source": [
    "## 6-21 Data Preprocessing and Exploration"
   ]
  },
  {
   "cell_type": "markdown",
   "metadata": {},
   "source": [
    "**Code file missed, example can be found in the video **"
   ]
  },
  {
   "cell_type": "markdown",
   "metadata": {},
   "source": [
    "### Data Munging\n",
    "* Mung or munge: https://en.wikipedia.org/wiki/Mung_(computer_term)\n",
    "* Data wrangling：https://en.wikipedia.org/wiki/Data_wrangling"
   ]
  },
  {
   "cell_type": "markdown",
   "metadata": {},
   "source": [
    "** Deleting rows/columns with missing values **\n",
    "* numpy.unique: https://docs.scipy.org/doc/numpy/reference/generated/numpy.unique.html\n",
    "* numpy.delete: https://docs.scipy.org/doc/numpy/reference/generated/numpy.delete.html"
   ]
  },
  {
   "cell_type": "markdown",
   "metadata": {},
   "source": [
    "** Replacing missing values **\n",
    "* Masked array operations: https://docs.scipy.org/doc/numpy/reference/routines.ma.html\n",
    "* Statistics: https://docs.scipy.org/doc/numpy-dev/reference/routines.statistics.html"
   ]
  },
  {
   "cell_type": "markdown",
   "metadata": {},
   "source": [
    "## 6-22 Collapsing Data via Principal Component Analysis"
   ]
  },
  {
   "cell_type": "markdown",
   "metadata": {},
   "source": [
    "**Code file missed, example can be found in the video **"
   ]
  },
  {
   "cell_type": "markdown",
   "metadata": {},
   "source": [
    "### On Principal Component Analysis (PCA)\n",
    "* PCA: https://en.wikipedia.org/wiki/Principal_component_analysis\n",
    "* Canadian average retail prices for food and other selected items: http://www5.statcan.gc.ca/cansim/a26?lang=eng&id=3260012"
   ]
  },
  {
   "cell_type": "markdown",
   "metadata": {},
   "source": [
    "** Starting PCA **\n",
    "* Eigendecomposition of a matrix: https://en.wikipedia.org/wiki/Eigendecomposition_of_a_matrix\n",
    "* Eigenvalues and eigenvectors: https://en.wikipedia.org/wiki/Eigenvalues_and_eigenvectors\n",
    "* SciPy linear algebra function eigh: https://docs.scipy.org/doc/scipy/reference/generated/scipy.linalg.eigh.html\n"
   ]
  },
  {
   "cell_type": "markdown",
   "metadata": {},
   "source": [
    "## 6-23 Generalities of Supervised and Unsupervised Learning"
   ]
  },
  {
   "cell_type": "markdown",
   "metadata": {},
   "source": [
    "**Code file missed **"
   ]
  },
  {
   "cell_type": "markdown",
   "metadata": {},
   "source": [
    "** Supervised Learning **\n",
    "* Supervised learning: https://en.wikipedia.org/wiki/Supervised_learning\n",
    "* Regression: https://en.wikipedia.org/wiki/Regression_analysis\n",
    "    * Least squares: https://en.wikipedia.org/wiki/Least_squares\n",
    "    * Free fall: https://en.wikipedia.org/wiki/Free_fall\n",
    "* Classification: https://en.wikipedia.org/wiki/Statistical_classification"
   ]
  },
  {
   "cell_type": "markdown",
   "metadata": {},
   "source": [
    "** Unsupervised Learning **\n",
    "* Unsupervised Learning: https://en.wikipedia.org/wiki/Unsupervised_learning\n",
    "* Cluster Analysis: https://en.wikipedia.org/wiki/Cluster_analysis"
   ]
  },
  {
   "cell_type": "markdown",
   "metadata": {},
   "source": [
    "# Session 7: Regression"
   ]
  },
  {
   "cell_type": "markdown",
   "metadata": {},
   "source": [
    "## Agenda\n",
    "* Overview of optimization and the Gradient descent method\n",
    "* Gradient descent method implemented via Numpy and examples comparing it with SciPy functions for optimization\n",
    "* The linear regression problem and its solution via Gradient descent\n",
    "* Solving non-linear regression problems via GD and some thoughts for improvements"
   ]
  },
  {
   "cell_type": "markdown",
   "metadata": {},
   "source": [
    "## 7-24 Overview of Optimization and the Gradient Descent Method"
   ]
  },
  {
   "cell_type": "markdown",
   "metadata": {},
   "source": [
    "* [Mathematical optimization](https://en.wikipedia.org/wiki/Mathematical_optimization)\n",
    "* [Optimization in SciPy](https://docs.scipy.org/doc/scipy/reference/optimize.html)\n",
    "* Gradient Descent: theoretical background"
   ]
  },
  {
   "cell_type": "markdown",
   "metadata": {},
   "source": [
    "### References\n",
    "\n",
    "Additional discussion and examples can be found at:\n",
    "\n",
    "- [Scipy Lecture Notes: Mathematical optimization: finding minima of functions](http://www.scipy-lectures.org/advanced/mathematical_optimization/)\n",
    "- [SciPy Cookbook: Optimization and fitting](http://scipy-cookbook.readthedocs.io/items/idx_optimization_and_fitting.html)"
   ]
  },
  {
   "cell_type": "markdown",
   "metadata": {},
   "source": [
    "## 7-25 Gradient Descent Implementation via NumPy and Examples Comparing it with SciPy Functions for Optimization"
   ]
  },
  {
   "cell_type": "markdown",
   "metadata": {},
   "source": [
    "* [Solving the problem using SciPy linear regression function](https://docs.scipy.org/doc/scipy-0.18.1/reference/generated/scipy.stats.linregress.html)\n",
    "* [Solving the problem using SciPy optimize functions](https://docs.scipy.org/doc/scipy-0.18.1/reference/optimize.html)\n",
    "* [Differential Evolution](https://docs.scipy.org/doc/scipy-0.15.1/reference/generated/scipy.optimize.differential_evolution.html)"
   ]
  },
  {
   "cell_type": "markdown",
   "metadata": {},
   "source": [
    "### References\n",
    "- [Scipy Lecture Notes: Mathematical optimization: finding minima of functions](http://www.scipy-lectures.org/advanced/mathematical_optimization/)\n",
    "- [SciPy Cookbook: Optimization and fitting](http://scipy-cookbook.readthedocs.io/items/idx_optimization_and_fitting.html)\n",
    "- [Differential Evolution](https://docs.scipy.org/doc/scipy-0.15.1/reference/generated/scipy.optimize.differential_evolution.html)"
   ]
  },
  {
   "cell_type": "markdown",
   "metadata": {},
   "source": [
    "## 7-26 The Linear Regression Problem and its Solution via Gradient Descent"
   ]
  },
  {
   "cell_type": "markdown",
   "metadata": {},
   "source": [
    "* [The linear regression problem](https://en.wikipedia.org/wiki/Regression_analysis)\n",
    "* [UCI Machine Learning Repository housing data set](https://archive.ics.uci.edu/ml/datasets/Housing)\n",
    "* [Random sample consensus (RANSAC) algorithm](http://scipy-cookbook.readthedocs.io/items/RANSAC.html)\n",
    "* [SciPy Cookbook: Optimization and fitting](http://scipy-cookbook.readthedocs.io/items/idx_optimization_and_fitting.html)\n",
    "\n",
    "\n"
   ]
  },
  {
   "cell_type": "markdown",
   "metadata": {},
   "source": [
    "## 7-27 Solving a Non-Linear Regression Problems via Gradient Descent and Some Thoughts for Improvements"
   ]
  },
  {
   "cell_type": "markdown",
   "metadata": {},
   "source": [
    "* [Overview of the regression problem](https://en.wikipedia.org/wiki/Regression_analysis)\n",
    "* [The linear regression problem](https://en.wikipedia.org/wiki/Regression_analysis)\n",
    "* [Random sample consensus (RANSAC) algorithm](http://scipy-cookbook.readthedocs.io/items/RANSAC.html)\n",
    "* [SciPy Cookbook: Optimization and fitting](http://scipy-cookbook.readthedocs.io/items/idx_optimization_and_fitting.html)"
   ]
  },
  {
   "cell_type": "markdown",
   "metadata": {},
   "source": [
    "Review and run the code. Haven't look into detail yet"
   ]
  },
  {
   "cell_type": "markdown",
   "metadata": {},
   "source": [
    "# Session 8: Logistic Classification"
   ]
  },
  {
   "cell_type": "markdown",
   "metadata": {},
   "source": [
    "## 8-28 - Overview of Logistic Regression for Classification and Prediction"
   ]
  },
  {
   "cell_type": "markdown",
   "metadata": {},
   "source": [
    "* [Overview of classification](https://en.wikipedia.org/wiki/Statistical_classification)\n",
    "* [Statistical classification](https://en.wikipedia.org/wiki/Statistical_classification)\n",
    "* [The logistic regression algorithm](https://en.wikipedia.org/wiki/Logistic_regression)\n",
    "* [The logistic distribution function](https://en.wikipedia.org/wiki/Logistic_distribution)\n",
    "* Hosmer, D. W. Jr., Lemeshow, S., and Sturdivant, R. X. (2013) Applied Logistic Regression, 3rd. edition, Wiley."
   ]
  },
  {
   "cell_type": "markdown",
   "metadata": {},
   "source": [
    "## 8-29 - Implementing Logistic Regression for Classification via SciPy Functions"
   ]
  },
  {
   "cell_type": "markdown",
   "metadata": {},
   "source": [
    "* [Logistic regression classification](https://en.wikipedia.org/wiki/Logistic_regression)\n",
    "* [logistic (sigmoid) function](https://en.wikipedia.org/wiki/Sigmoid_function)\n",
    "* [Test Case from Wikipedia](https://en.wikipedia.org/wiki/Logistic_regression)\n",
    "* Hosmer, D. W. Jr., Lemeshow, S., and Sturdivant, R. X. (2013) Applied Logistic Regression, 3rd. edition, Wiley.\n",
    "* [Scipy Lecture Notes: Mathematical optimization: finding minima of functions](http://www.scipy-lectures.org/advanced/mathematical_optimization/)\n",
    "* [SciPy Cookbook: Optimization and fitting](http://scipy-cookbook.readthedocs.io/items/idx_optimization_and_fitting.html)"
   ]
  },
  {
   "cell_type": "code",
   "execution_count": null,
   "metadata": {
    "collapsed": true
   },
   "outputs": [],
   "source": []
  }
 ],
 "metadata": {
  "kernelspec": {
   "display_name": "Python 3",
   "language": "python",
   "name": "python3"
  },
  "language_info": {
   "codemirror_mode": {
    "name": "ipython",
    "version": 3
   },
   "file_extension": ".py",
   "mimetype": "text/x-python",
   "name": "python",
   "nbconvert_exporter": "python",
   "pygments_lexer": "ipython3",
   "version": "3.6.0"
  }
 },
 "nbformat": 4,
 "nbformat_minor": 2
}
